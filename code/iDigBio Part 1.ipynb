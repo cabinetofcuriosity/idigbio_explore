{
 "cells": [
  {
   "cell_type": "markdown",
   "metadata": {},
   "source": [
    "# iDigBio"
   ]
  },
  {
   "cell_type": "markdown",
   "metadata": {},
   "source": [
    "## What is iDigBio?\n",
    "\n",
    "iDigBio, which stands for Integrated Digitized Biocollections, is a repository of over 100,000,000 specimen records and over 26,000,000 media records of digitized biological specimens. It provides search and map functions through its GUI, which makes it easy to find many types of information. Here, I will look at biodiversity in San Diego County."
   ]
  },
  {
   "cell_type": "markdown",
   "metadata": {},
   "source": [
    "## Accessing the Data\n",
    "\n",
    "While you can access any data available through the website's GUI, I found it is more efficient to use their API. iDigBio has a variety of ways to access their API, but I used the direct Python client."
   ]
  },
  {
   "cell_type": "markdown",
   "metadata": {},
   "source": [
    "### Step 1: Setting up Python\n",
    "\n",
    "For this tutorial, I used Anaconda to set up a Jupyter notebook locally. Download Anaconda [here](https://www.anaconda.com/download/). When that's downloaded, open up the application and select Jupyter notebook, and that should take you back to your browser with a locally-hosted notebook."
   ]
  },
  {
   "cell_type": "markdown",
   "metadata": {},
   "source": [
    "### Step 2: Setting up iDigBio\n",
    "\n",
    "The [Python API site](https://pypi.org/project/idigbio/) gives instructions on how to set up the notebook, but I will repeat them here.\n",
    "\n",
    "It may benefit you to update pip first. Run `pip install --upgrade pip` in your terminal.\n",
    "\n",
    "Then, run `pip install idigbio` and let it download.\n",
    "\n",
    "If you haven't already, also run `pip install urllib3[secure]` and `pip install pandas`. "
   ]
  },
  {
   "cell_type": "markdown",
   "metadata": {},
   "source": [
    "### Step 3: Setting up the Jupyter Notebook\n",
    "\n",
    "When each of those are downloaded, go back to your local Jupyter notebook and run these commands:"
   ]
  },
  {
   "cell_type": "code",
   "execution_count": 3,
   "metadata": {},
   "outputs": [],
   "source": [
    "import idigbio\n",
    "import pandas as pd\n",
    "from IPython.display import Image"
   ]
  },
  {
   "cell_type": "markdown",
   "metadata": {},
   "source": [
    "### Step 4: Accessing the Actual Data\n",
    "\n",
    "At this point, we can search for whatever information we need. Here are the basics:\n",
    "\n",
    "Create json data\n",
    "`api = idigbio.json()\n",
    "json_output = api.search_records()`\n",
    "\n",
    "or \n",
    "\n",
    "Create a pandas dataframe\n",
    "`api = idigbio.pandas()\n",
    "pandas_output = api.search_records()`\n",
    "\n",
    "[This website](https://github.com/idigbio/idigbio-search-api/wiki) is useful in using this system. "
   ]
  },
  {
   "cell_type": "code",
   "execution_count": 4,
   "metadata": {},
   "outputs": [],
   "source": [
    "api_json = idigbio.json() #I modified this line to specify which data type we're using\n",
    "json_output = api_json.search_records()\n",
    "#json_output"
   ]
  },
  {
   "cell_type": "code",
   "execution_count": 6,
   "metadata": {},
   "outputs": [],
   "source": [
    "api_pandas = idigbio.pandas()\n",
    "pandas_output = api_pandas.search_records()\n",
    "#pandas_output"
   ]
  },
  {
   "cell_type": "markdown",
   "metadata": {},
   "source": [
    "Here are some examples of things you can do with this search engine ([here](https://pypi.org/project/idigbio/) is documentation):"
   ]
  },
  {
   "cell_type": "code",
   "execution_count": 7,
   "metadata": {
    "scrolled": true
   },
   "outputs": [
    {
     "data": {
      "text/html": [
       "<div>\n",
       "<style scoped>\n",
       "    .dataframe tbody tr th:only-of-type {\n",
       "        vertical-align: middle;\n",
       "    }\n",
       "\n",
       "    .dataframe tbody tr th {\n",
       "        vertical-align: top;\n",
       "    }\n",
       "\n",
       "    .dataframe thead th {\n",
       "        text-align: right;\n",
       "    }\n",
       "</style>\n",
       "<table border=\"1\" class=\"dataframe\">\n",
       "  <thead>\n",
       "    <tr style=\"text-align: right;\">\n",
       "      <th></th>\n",
       "      <th>basisofrecord</th>\n",
       "      <th>canonicalname</th>\n",
       "      <th>catalognumber</th>\n",
       "      <th>class</th>\n",
       "      <th>collectioncode</th>\n",
       "      <th>collectionid</th>\n",
       "      <th>collector</th>\n",
       "      <th>continent</th>\n",
       "      <th>coordinateuncertainty</th>\n",
       "      <th>country</th>\n",
       "      <th>...</th>\n",
       "      <th>recordnumber</th>\n",
       "      <th>recordset</th>\n",
       "      <th>scientificname</th>\n",
       "      <th>startdayofyear</th>\n",
       "      <th>stateprovince</th>\n",
       "      <th>taxonid</th>\n",
       "      <th>taxonomicstatus</th>\n",
       "      <th>taxonrank</th>\n",
       "      <th>verbatimeventdate</th>\n",
       "      <th>verbatimlocality</th>\n",
       "    </tr>\n",
       "    <tr>\n",
       "      <th>uuid</th>\n",
       "      <th></th>\n",
       "      <th></th>\n",
       "      <th></th>\n",
       "      <th></th>\n",
       "      <th></th>\n",
       "      <th></th>\n",
       "      <th></th>\n",
       "      <th></th>\n",
       "      <th></th>\n",
       "      <th></th>\n",
       "      <th></th>\n",
       "      <th></th>\n",
       "      <th></th>\n",
       "      <th></th>\n",
       "      <th></th>\n",
       "      <th></th>\n",
       "      <th></th>\n",
       "      <th></th>\n",
       "      <th></th>\n",
       "      <th></th>\n",
       "      <th></th>\n",
       "    </tr>\n",
       "  </thead>\n",
       "  <tbody>\n",
       "    <tr>\n",
       "      <th>b72127a7-0fab-4882-b713-a1cb8e8c7112</th>\n",
       "      <td>fossilspecimen</td>\n",
       "      <td>ursus</td>\n",
       "      <td>012706</td>\n",
       "      <td>mammalia</td>\n",
       "      <td>vertpaleo</td>\n",
       "      <td>NaN</td>\n",
       "      <td>harold w hamilton</td>\n",
       "      <td>north america</td>\n",
       "      <td>NaN</td>\n",
       "      <td>united states</td>\n",
       "      <td>...</td>\n",
       "      <td>NaN</td>\n",
       "      <td>71b8ffab-444e-43f9-9a9c-5c42b0eaa5eb</td>\n",
       "      <td>ursus</td>\n",
       "      <td>179.0</td>\n",
       "      <td>west virginia</td>\n",
       "      <td>2433406</td>\n",
       "      <td>accepted</td>\n",
       "      <td>genus</td>\n",
       "      <td>NaN</td>\n",
       "      <td>usa | west virginia | trout cave entrance, lev...</td>\n",
       "    </tr>\n",
       "    <tr>\n",
       "      <th>1061b2ff-56ac-48fd-8db7-8939e68b8af9</th>\n",
       "      <td>fossilspecimen</td>\n",
       "      <td>ursus</td>\n",
       "      <td>012882</td>\n",
       "      <td>mammalia</td>\n",
       "      <td>vertpaleo</td>\n",
       "      <td>NaN</td>\n",
       "      <td>hamilton &amp; mccrady</td>\n",
       "      <td>north america</td>\n",
       "      <td>NaN</td>\n",
       "      <td>united states</td>\n",
       "      <td>...</td>\n",
       "      <td>NaN</td>\n",
       "      <td>71b8ffab-444e-43f9-9a9c-5c42b0eaa5eb</td>\n",
       "      <td>ursus</td>\n",
       "      <td>178.0</td>\n",
       "      <td>west virginia</td>\n",
       "      <td>2433406</td>\n",
       "      <td>accepted</td>\n",
       "      <td>genus</td>\n",
       "      <td>NaN</td>\n",
       "      <td>usa | west virginia | trout cave entrance, lev...</td>\n",
       "    </tr>\n",
       "    <tr>\n",
       "      <th>80b2da27-6560-4fc0-99f5-f3c3012b5548</th>\n",
       "      <td>fossilspecimen</td>\n",
       "      <td>ursus</td>\n",
       "      <td>002507</td>\n",
       "      <td>mammalia</td>\n",
       "      <td>vertpaleo</td>\n",
       "      <td>NaN</td>\n",
       "      <td>andrew carnegie: gift</td>\n",
       "      <td>north america</td>\n",
       "      <td>NaN</td>\n",
       "      <td>united states</td>\n",
       "      <td>...</td>\n",
       "      <td>NaN</td>\n",
       "      <td>71b8ffab-444e-43f9-9a9c-5c42b0eaa5eb</td>\n",
       "      <td>ursus</td>\n",
       "      <td>179.0</td>\n",
       "      <td>california</td>\n",
       "      <td>2433406</td>\n",
       "      <td>accepted</td>\n",
       "      <td>genus</td>\n",
       "      <td>NaN</td>\n",
       "      <td>usa | california | rancho la brea, los angeles</td>\n",
       "    </tr>\n",
       "    <tr>\n",
       "      <th>8c60341e-1af8-4f68-bb0b-ebc543985559</th>\n",
       "      <td>fossilspecimen</td>\n",
       "      <td>ursus</td>\n",
       "      <td>068946</td>\n",
       "      <td>mammalia</td>\n",
       "      <td>vertpaleo</td>\n",
       "      <td>NaN</td>\n",
       "      <td>harold w hamilton &amp; crew</td>\n",
       "      <td>north america</td>\n",
       "      <td>NaN</td>\n",
       "      <td>united states</td>\n",
       "      <td>...</td>\n",
       "      <td>NaN</td>\n",
       "      <td>71b8ffab-444e-43f9-9a9c-5c42b0eaa5eb</td>\n",
       "      <td>ursus</td>\n",
       "      <td>179.0</td>\n",
       "      <td>virginia</td>\n",
       "      <td>2433406</td>\n",
       "      <td>accepted</td>\n",
       "      <td>genus</td>\n",
       "      <td>NaN</td>\n",
       "      <td>usa | virginia | holston vista cave, 0-6\" level</td>\n",
       "    </tr>\n",
       "    <tr>\n",
       "      <th>ad4e182a-0751-4a29-9a63-22e11d5be620</th>\n",
       "      <td>fossilspecimen</td>\n",
       "      <td>ursus</td>\n",
       "      <td>024303</td>\n",
       "      <td>mammalia</td>\n",
       "      <td>vertpaleo</td>\n",
       "      <td>NaN</td>\n",
       "      <td>s d dean jr</td>\n",
       "      <td>north america</td>\n",
       "      <td>NaN</td>\n",
       "      <td>united states</td>\n",
       "      <td>...</td>\n",
       "      <td>NaN</td>\n",
       "      <td>71b8ffab-444e-43f9-9a9c-5c42b0eaa5eb</td>\n",
       "      <td>ursus</td>\n",
       "      <td>90.0</td>\n",
       "      <td>virginia</td>\n",
       "      <td>2433406</td>\n",
       "      <td>accepted</td>\n",
       "      <td>genus</td>\n",
       "      <td>NaN</td>\n",
       "      <td>usa | virginia | meadowview cave</td>\n",
       "    </tr>\n",
       "    <tr>\n",
       "      <th>d205fbfe-c3d7-4813-a787-6d207e0b093d</th>\n",
       "      <td>fossilspecimen</td>\n",
       "      <td>ursus</td>\n",
       "      <td>012608</td>\n",
       "      <td>mammalia</td>\n",
       "      <td>vertpaleo</td>\n",
       "      <td>NaN</td>\n",
       "      <td>a d mccrady &amp; r h handley</td>\n",
       "      <td>north america</td>\n",
       "      <td>NaN</td>\n",
       "      <td>united states</td>\n",
       "      <td>...</td>\n",
       "      <td>NaN</td>\n",
       "      <td>71b8ffab-444e-43f9-9a9c-5c42b0eaa5eb</td>\n",
       "      <td>ursus</td>\n",
       "      <td>227.0</td>\n",
       "      <td>west virginia</td>\n",
       "      <td>2433406</td>\n",
       "      <td>accepted</td>\n",
       "      <td>genus</td>\n",
       "      <td>NaN</td>\n",
       "      <td>usa | west virginia | organ-hedricks cave system</td>\n",
       "    </tr>\n",
       "    <tr>\n",
       "      <th>e83b31f6-52b3-4104-bf1c-83e923583a02</th>\n",
       "      <td>fossilspecimen</td>\n",
       "      <td>ursus</td>\n",
       "      <td>024322</td>\n",
       "      <td>mammalia</td>\n",
       "      <td>vertpaleo</td>\n",
       "      <td>NaN</td>\n",
       "      <td>h w hamilton &amp; a l ambrose</td>\n",
       "      <td>north america</td>\n",
       "      <td>NaN</td>\n",
       "      <td>united states</td>\n",
       "      <td>...</td>\n",
       "      <td>NaN</td>\n",
       "      <td>71b8ffab-444e-43f9-9a9c-5c42b0eaa5eb</td>\n",
       "      <td>ursus</td>\n",
       "      <td>209.0</td>\n",
       "      <td>virginia</td>\n",
       "      <td>2433406</td>\n",
       "      <td>accepted</td>\n",
       "      <td>genus</td>\n",
       "      <td>NaN</td>\n",
       "      <td>usa | virginia | vickers cave</td>\n",
       "    </tr>\n",
       "    <tr>\n",
       "      <th>66a42706-1d57-4637-ade2-e73d247390c5</th>\n",
       "      <td>fossilspecimen</td>\n",
       "      <td>ursus</td>\n",
       "      <td>012675</td>\n",
       "      <td>mammalia</td>\n",
       "      <td>vertpaleo</td>\n",
       "      <td>NaN</td>\n",
       "      <td>n k vereschagin, leningrad: exch</td>\n",
       "      <td>europe</td>\n",
       "      <td>NaN</td>\n",
       "      <td>russia</td>\n",
       "      <td>...</td>\n",
       "      <td>NaN</td>\n",
       "      <td>71b8ffab-444e-43f9-9a9c-5c42b0eaa5eb</td>\n",
       "      <td>ursus</td>\n",
       "      <td>179.0</td>\n",
       "      <td>NaN</td>\n",
       "      <td>2433406</td>\n",
       "      <td>accepted</td>\n",
       "      <td>genus</td>\n",
       "      <td>NaN</td>\n",
       "      <td>russia | pogrebeneya cave, ural mountains</td>\n",
       "    </tr>\n",
       "    <tr>\n",
       "      <th>15906599-7cad-4c19-a2d5-7aeb4c560392</th>\n",
       "      <td>fossilspecimen</td>\n",
       "      <td>ursus</td>\n",
       "      <td>8387</td>\n",
       "      <td>mammalia</td>\n",
       "      <td>v</td>\n",
       "      <td>NaN</td>\n",
       "      <td>sinclair+furlong</td>\n",
       "      <td>north america</td>\n",
       "      <td>NaN</td>\n",
       "      <td>united states</td>\n",
       "      <td>...</td>\n",
       "      <td>NaN</td>\n",
       "      <td>5ab348ab-439a-4697-925c-d6abe0c09b92</td>\n",
       "      <td>ursus</td>\n",
       "      <td>NaN</td>\n",
       "      <td>california</td>\n",
       "      <td>2433406</td>\n",
       "      <td>accepted</td>\n",
       "      <td>genus</td>\n",
       "      <td>NaN</td>\n",
       "      <td>NaN</td>\n",
       "    </tr>\n",
       "    <tr>\n",
       "      <th>ff60bd78-0453-4596-8068-59ae888af311</th>\n",
       "      <td>fossilspecimen</td>\n",
       "      <td>ursus</td>\n",
       "      <td>4100</td>\n",
       "      <td>mammalia</td>\n",
       "      <td>v</td>\n",
       "      <td>NaN</td>\n",
       "      <td>sinclair+furlong</td>\n",
       "      <td>north america</td>\n",
       "      <td>NaN</td>\n",
       "      <td>united states</td>\n",
       "      <td>...</td>\n",
       "      <td>NaN</td>\n",
       "      <td>5ab348ab-439a-4697-925c-d6abe0c09b92</td>\n",
       "      <td>ursus</td>\n",
       "      <td>NaN</td>\n",
       "      <td>california</td>\n",
       "      <td>2433406</td>\n",
       "      <td>accepted</td>\n",
       "      <td>genus</td>\n",
       "      <td>NaN</td>\n",
       "      <td>NaN</td>\n",
       "    </tr>\n",
       "  </tbody>\n",
       "</table>\n",
       "<p>10 rows × 61 columns</p>\n",
       "</div>"
      ],
      "text/plain": [
       "                                       basisofrecord canonicalname  \\\n",
       "uuid                                                                 \n",
       "b72127a7-0fab-4882-b713-a1cb8e8c7112  fossilspecimen         ursus   \n",
       "1061b2ff-56ac-48fd-8db7-8939e68b8af9  fossilspecimen         ursus   \n",
       "80b2da27-6560-4fc0-99f5-f3c3012b5548  fossilspecimen         ursus   \n",
       "8c60341e-1af8-4f68-bb0b-ebc543985559  fossilspecimen         ursus   \n",
       "ad4e182a-0751-4a29-9a63-22e11d5be620  fossilspecimen         ursus   \n",
       "d205fbfe-c3d7-4813-a787-6d207e0b093d  fossilspecimen         ursus   \n",
       "e83b31f6-52b3-4104-bf1c-83e923583a02  fossilspecimen         ursus   \n",
       "66a42706-1d57-4637-ade2-e73d247390c5  fossilspecimen         ursus   \n",
       "15906599-7cad-4c19-a2d5-7aeb4c560392  fossilspecimen         ursus   \n",
       "ff60bd78-0453-4596-8068-59ae888af311  fossilspecimen         ursus   \n",
       "\n",
       "                                     catalognumber     class collectioncode  \\\n",
       "uuid                                                                          \n",
       "b72127a7-0fab-4882-b713-a1cb8e8c7112        012706  mammalia      vertpaleo   \n",
       "1061b2ff-56ac-48fd-8db7-8939e68b8af9        012882  mammalia      vertpaleo   \n",
       "80b2da27-6560-4fc0-99f5-f3c3012b5548        002507  mammalia      vertpaleo   \n",
       "8c60341e-1af8-4f68-bb0b-ebc543985559        068946  mammalia      vertpaleo   \n",
       "ad4e182a-0751-4a29-9a63-22e11d5be620        024303  mammalia      vertpaleo   \n",
       "d205fbfe-c3d7-4813-a787-6d207e0b093d        012608  mammalia      vertpaleo   \n",
       "e83b31f6-52b3-4104-bf1c-83e923583a02        024322  mammalia      vertpaleo   \n",
       "66a42706-1d57-4637-ade2-e73d247390c5        012675  mammalia      vertpaleo   \n",
       "15906599-7cad-4c19-a2d5-7aeb4c560392          8387  mammalia              v   \n",
       "ff60bd78-0453-4596-8068-59ae888af311          4100  mammalia              v   \n",
       "\n",
       "                                     collectionid  \\\n",
       "uuid                                                \n",
       "b72127a7-0fab-4882-b713-a1cb8e8c7112          NaN   \n",
       "1061b2ff-56ac-48fd-8db7-8939e68b8af9          NaN   \n",
       "80b2da27-6560-4fc0-99f5-f3c3012b5548          NaN   \n",
       "8c60341e-1af8-4f68-bb0b-ebc543985559          NaN   \n",
       "ad4e182a-0751-4a29-9a63-22e11d5be620          NaN   \n",
       "d205fbfe-c3d7-4813-a787-6d207e0b093d          NaN   \n",
       "e83b31f6-52b3-4104-bf1c-83e923583a02          NaN   \n",
       "66a42706-1d57-4637-ade2-e73d247390c5          NaN   \n",
       "15906599-7cad-4c19-a2d5-7aeb4c560392          NaN   \n",
       "ff60bd78-0453-4596-8068-59ae888af311          NaN   \n",
       "\n",
       "                                                             collector  \\\n",
       "uuid                                                                     \n",
       "b72127a7-0fab-4882-b713-a1cb8e8c7112                 harold w hamilton   \n",
       "1061b2ff-56ac-48fd-8db7-8939e68b8af9                hamilton & mccrady   \n",
       "80b2da27-6560-4fc0-99f5-f3c3012b5548             andrew carnegie: gift   \n",
       "8c60341e-1af8-4f68-bb0b-ebc543985559          harold w hamilton & crew   \n",
       "ad4e182a-0751-4a29-9a63-22e11d5be620                       s d dean jr   \n",
       "d205fbfe-c3d7-4813-a787-6d207e0b093d         a d mccrady & r h handley   \n",
       "e83b31f6-52b3-4104-bf1c-83e923583a02        h w hamilton & a l ambrose   \n",
       "66a42706-1d57-4637-ade2-e73d247390c5  n k vereschagin, leningrad: exch   \n",
       "15906599-7cad-4c19-a2d5-7aeb4c560392                  sinclair+furlong   \n",
       "ff60bd78-0453-4596-8068-59ae888af311                  sinclair+furlong   \n",
       "\n",
       "                                          continent  coordinateuncertainty  \\\n",
       "uuid                                                                         \n",
       "b72127a7-0fab-4882-b713-a1cb8e8c7112  north america                    NaN   \n",
       "1061b2ff-56ac-48fd-8db7-8939e68b8af9  north america                    NaN   \n",
       "80b2da27-6560-4fc0-99f5-f3c3012b5548  north america                    NaN   \n",
       "8c60341e-1af8-4f68-bb0b-ebc543985559  north america                    NaN   \n",
       "ad4e182a-0751-4a29-9a63-22e11d5be620  north america                    NaN   \n",
       "d205fbfe-c3d7-4813-a787-6d207e0b093d  north america                    NaN   \n",
       "e83b31f6-52b3-4104-bf1c-83e923583a02  north america                    NaN   \n",
       "66a42706-1d57-4637-ade2-e73d247390c5         europe                    NaN   \n",
       "15906599-7cad-4c19-a2d5-7aeb4c560392  north america                    NaN   \n",
       "ff60bd78-0453-4596-8068-59ae888af311  north america                    NaN   \n",
       "\n",
       "                                            country  ... recordnumber  \\\n",
       "uuid                                                 ...                \n",
       "b72127a7-0fab-4882-b713-a1cb8e8c7112  united states  ...          NaN   \n",
       "1061b2ff-56ac-48fd-8db7-8939e68b8af9  united states  ...          NaN   \n",
       "80b2da27-6560-4fc0-99f5-f3c3012b5548  united states  ...          NaN   \n",
       "8c60341e-1af8-4f68-bb0b-ebc543985559  united states  ...          NaN   \n",
       "ad4e182a-0751-4a29-9a63-22e11d5be620  united states  ...          NaN   \n",
       "d205fbfe-c3d7-4813-a787-6d207e0b093d  united states  ...          NaN   \n",
       "e83b31f6-52b3-4104-bf1c-83e923583a02  united states  ...          NaN   \n",
       "66a42706-1d57-4637-ade2-e73d247390c5         russia  ...          NaN   \n",
       "15906599-7cad-4c19-a2d5-7aeb4c560392  united states  ...          NaN   \n",
       "ff60bd78-0453-4596-8068-59ae888af311  united states  ...          NaN   \n",
       "\n",
       "                                                                 recordset  \\\n",
       "uuid                                                                         \n",
       "b72127a7-0fab-4882-b713-a1cb8e8c7112  71b8ffab-444e-43f9-9a9c-5c42b0eaa5eb   \n",
       "1061b2ff-56ac-48fd-8db7-8939e68b8af9  71b8ffab-444e-43f9-9a9c-5c42b0eaa5eb   \n",
       "80b2da27-6560-4fc0-99f5-f3c3012b5548  71b8ffab-444e-43f9-9a9c-5c42b0eaa5eb   \n",
       "8c60341e-1af8-4f68-bb0b-ebc543985559  71b8ffab-444e-43f9-9a9c-5c42b0eaa5eb   \n",
       "ad4e182a-0751-4a29-9a63-22e11d5be620  71b8ffab-444e-43f9-9a9c-5c42b0eaa5eb   \n",
       "d205fbfe-c3d7-4813-a787-6d207e0b093d  71b8ffab-444e-43f9-9a9c-5c42b0eaa5eb   \n",
       "e83b31f6-52b3-4104-bf1c-83e923583a02  71b8ffab-444e-43f9-9a9c-5c42b0eaa5eb   \n",
       "66a42706-1d57-4637-ade2-e73d247390c5  71b8ffab-444e-43f9-9a9c-5c42b0eaa5eb   \n",
       "15906599-7cad-4c19-a2d5-7aeb4c560392  5ab348ab-439a-4697-925c-d6abe0c09b92   \n",
       "ff60bd78-0453-4596-8068-59ae888af311  5ab348ab-439a-4697-925c-d6abe0c09b92   \n",
       "\n",
       "                                     scientificname startdayofyear  \\\n",
       "uuid                                                                 \n",
       "b72127a7-0fab-4882-b713-a1cb8e8c7112          ursus          179.0   \n",
       "1061b2ff-56ac-48fd-8db7-8939e68b8af9          ursus          178.0   \n",
       "80b2da27-6560-4fc0-99f5-f3c3012b5548          ursus          179.0   \n",
       "8c60341e-1af8-4f68-bb0b-ebc543985559          ursus          179.0   \n",
       "ad4e182a-0751-4a29-9a63-22e11d5be620          ursus           90.0   \n",
       "d205fbfe-c3d7-4813-a787-6d207e0b093d          ursus          227.0   \n",
       "e83b31f6-52b3-4104-bf1c-83e923583a02          ursus          209.0   \n",
       "66a42706-1d57-4637-ade2-e73d247390c5          ursus          179.0   \n",
       "15906599-7cad-4c19-a2d5-7aeb4c560392          ursus            NaN   \n",
       "ff60bd78-0453-4596-8068-59ae888af311          ursus            NaN   \n",
       "\n",
       "                                      stateprovince  taxonid taxonomicstatus  \\\n",
       "uuid                                                                           \n",
       "b72127a7-0fab-4882-b713-a1cb8e8c7112  west virginia  2433406        accepted   \n",
       "1061b2ff-56ac-48fd-8db7-8939e68b8af9  west virginia  2433406        accepted   \n",
       "80b2da27-6560-4fc0-99f5-f3c3012b5548     california  2433406        accepted   \n",
       "8c60341e-1af8-4f68-bb0b-ebc543985559       virginia  2433406        accepted   \n",
       "ad4e182a-0751-4a29-9a63-22e11d5be620       virginia  2433406        accepted   \n",
       "d205fbfe-c3d7-4813-a787-6d207e0b093d  west virginia  2433406        accepted   \n",
       "e83b31f6-52b3-4104-bf1c-83e923583a02       virginia  2433406        accepted   \n",
       "66a42706-1d57-4637-ade2-e73d247390c5            NaN  2433406        accepted   \n",
       "15906599-7cad-4c19-a2d5-7aeb4c560392     california  2433406        accepted   \n",
       "ff60bd78-0453-4596-8068-59ae888af311     california  2433406        accepted   \n",
       "\n",
       "                                     taxonrank verbatimeventdate  \\\n",
       "uuid                                                               \n",
       "b72127a7-0fab-4882-b713-a1cb8e8c7112     genus               NaN   \n",
       "1061b2ff-56ac-48fd-8db7-8939e68b8af9     genus               NaN   \n",
       "80b2da27-6560-4fc0-99f5-f3c3012b5548     genus               NaN   \n",
       "8c60341e-1af8-4f68-bb0b-ebc543985559     genus               NaN   \n",
       "ad4e182a-0751-4a29-9a63-22e11d5be620     genus               NaN   \n",
       "d205fbfe-c3d7-4813-a787-6d207e0b093d     genus               NaN   \n",
       "e83b31f6-52b3-4104-bf1c-83e923583a02     genus               NaN   \n",
       "66a42706-1d57-4637-ade2-e73d247390c5     genus               NaN   \n",
       "15906599-7cad-4c19-a2d5-7aeb4c560392     genus               NaN   \n",
       "ff60bd78-0453-4596-8068-59ae888af311     genus               NaN   \n",
       "\n",
       "                                                                       verbatimlocality  \n",
       "uuid                                                                                     \n",
       "b72127a7-0fab-4882-b713-a1cb8e8c7112  usa | west virginia | trout cave entrance, lev...  \n",
       "1061b2ff-56ac-48fd-8db7-8939e68b8af9  usa | west virginia | trout cave entrance, lev...  \n",
       "80b2da27-6560-4fc0-99f5-f3c3012b5548     usa | california | rancho la brea, los angeles  \n",
       "8c60341e-1af8-4f68-bb0b-ebc543985559    usa | virginia | holston vista cave, 0-6\" level  \n",
       "ad4e182a-0751-4a29-9a63-22e11d5be620                   usa | virginia | meadowview cave  \n",
       "d205fbfe-c3d7-4813-a787-6d207e0b093d   usa | west virginia | organ-hedricks cave system  \n",
       "e83b31f6-52b3-4104-bf1c-83e923583a02                      usa | virginia | vickers cave  \n",
       "66a42706-1d57-4637-ade2-e73d247390c5          russia | pogrebeneya cave, ural mountains  \n",
       "15906599-7cad-4c19-a2d5-7aeb4c560392                                                NaN  \n",
       "ff60bd78-0453-4596-8068-59ae888af311                                                NaN  \n",
       "\n",
       "[10 rows x 61 columns]"
      ]
     },
     "execution_count": 7,
     "metadata": {},
     "output_type": "execute_result"
    }
   ],
   "source": [
    "#Look for a certain species\n",
    "record_list_bears = api_pandas.search_records(rq={\"scientificname\": \"ursus\"})\n",
    "record_list_bears.head(10)"
   ]
  },
  {
   "cell_type": "markdown",
   "metadata": {},
   "source": [
    "We can make charts. (This part of the tutorial is messy -- it took me quite a bit of work to figure it out, as there are no instructions.)"
   ]
  },
  {
   "cell_type": "code",
   "execution_count": 8,
   "metadata": {},
   "outputs": [
    {
     "data": {
      "text/plain": [
       "{'kingdom': {'animalia': {'itemCount': 50192524},\n",
       "  'plantae': {'itemCount': 49777325},\n",
       "  'fungi': {'itemCount': 5861718},\n",
       "  'chromista': {'itemCount': 557788},\n",
       "  'protista': {'itemCount': 302165},\n",
       "  'protozoa': {'itemCount': 47420},\n",
       "  'protoctista': {'itemCount': 41501},\n",
       "  'eubacteria': {'itemCount': 33972},\n",
       "  'algae': {'itemCount': 29481},\n",
       "  'dicotyledonae': {'itemCount': 17987}},\n",
       " 'itemCount': 115879282}"
      ]
     },
     "execution_count": 8,
     "metadata": {},
     "output_type": "execute_result"
    }
   ],
   "source": [
    "import matplotlib.pyplot as plt\n",
    "summary_data = api_json.top_records(top_fields = \"kingdom\")\n",
    "summary_data"
   ]
  },
  {
   "cell_type": "markdown",
   "metadata": {},
   "source": [
    "The information is in a dictionary of dictionaries of dictionaries, so I had to do some finagling to get the information I wanted. See below.\n",
    "\n",
    "Notice that there are more entries than there are actual kingdoms. Plantae, animalia, etc check out but some of the entries are dates, or otherwise not correctly organized. I needed to clean this data so we just had the 6 kingdoms, but doing this lost a lot of data: over 220000 pieces of data are contained in the date-kingdoms alone. I don't have a great way to avoid this other than asking iDigBio to rearrange this data from the start. "
   ]
  },
  {
   "cell_type": "code",
   "execution_count": 9,
   "metadata": {},
   "outputs": [
    {
     "data": {
      "text/plain": [
       "'kingdom'"
      ]
     },
     "execution_count": 9,
     "metadata": {},
     "output_type": "execute_result"
    }
   ],
   "source": [
    "#Finding how many layers I had to go down to find kingdoms\n",
    "list(summary_data.keys())[0]"
   ]
  },
  {
   "cell_type": "code",
   "execution_count": 10,
   "metadata": {},
   "outputs": [
    {
     "data": {
      "text/plain": [
       "dict_keys(['kingdom', 'itemCount'])"
      ]
     },
     "execution_count": 10,
     "metadata": {},
     "output_type": "execute_result"
    }
   ],
   "source": [
    "#Investigating that dictionary\n",
    "summary_data.keys()"
   ]
  },
  {
   "cell_type": "code",
   "execution_count": 11,
   "metadata": {},
   "outputs": [
    {
     "data": {
      "text/plain": [
       "1"
      ]
     },
     "execution_count": 11,
     "metadata": {},
     "output_type": "execute_result"
    }
   ],
   "source": [
    "#Finding indices of kingdoms\n",
    "list(list(summary_data.values())[0].keys()).index(\"plantae\")"
   ]
  },
  {
   "cell_type": "code",
   "execution_count": 12,
   "metadata": {},
   "outputs": [
    {
     "data": {
      "text/plain": [
       "{'animalia': 50192524,\n",
       " 'plantae': 49777325,\n",
       " 'fungi': 5861718,\n",
       " 'protista': 302165,\n",
       " 'protozoa': 47420,\n",
       " 'eubacteria': 33972}"
      ]
     },
     "execution_count": 12,
     "metadata": {},
     "output_type": "execute_result"
    }
   ],
   "source": [
    "#Clean data!\n",
    "def get_kingdoms(dict):\n",
    "    kingdoms = [\"plantae\", \"animalia\", \"fungi\", \"protista\", \"protozoa\", \"eubacteria\"]\n",
    "    new_dict = {}\n",
    "    big_list = list(list(dict.values())[0].keys())\n",
    "    for i in big_list:\n",
    "        if i in kingdoms:\n",
    "            new_dict[i] = list(\n",
    "                list(\n",
    "                list(\n",
    "                    dict.values()\n",
    "                )[0].values()\n",
    "            )[big_list.index(i)].values())[0]\n",
    "    return new_dict\n",
    "blessed = get_kingdoms(summary_data)\n",
    "blessed \n",
    "#Called it 'blessed' because it took hours of frustration to get here. I did not include all of the steps \n",
    "#I took, partially because it would have made this post very long and partially because it wouldn't have been useful\n",
    "#given that I gave you the correct way to use it. "
   ]
  },
  {
   "cell_type": "markdown",
   "metadata": {},
   "source": [
    "Finally we have a clean set of data. As you can see, I had some messy data and cleaned it by specifying which \"kingdoms\" were actually kingdoms. Then I looked inside the layers of dictionaries to get the numbers I wanted. "
   ]
  },
  {
   "cell_type": "markdown",
   "metadata": {},
   "source": [
    "Let's look at this information. We can make a bar chart. "
   ]
  },
  {
   "cell_type": "code",
   "execution_count": 13,
   "metadata": {},
   "outputs": [
    {
     "data": {
      "text/plain": [
       "([<matplotlib.axis.XTick at 0x1202e6898>,\n",
       "  <matplotlib.axis.XTick at 0x1202e6208>,\n",
       "  <matplotlib.axis.XTick at 0x11f114a90>,\n",
       "  <matplotlib.axis.XTick at 0x12057d9b0>,\n",
       "  <matplotlib.axis.XTick at 0x12057de48>,\n",
       "  <matplotlib.axis.XTick at 0x12058d358>],\n",
       " <a list of 6 Text xticklabel objects>)"
      ]
     },
     "execution_count": 13,
     "metadata": {},
     "output_type": "execute_result"
    },
    {
     "data": {
      "image/png": "[encoded data removed]",
      "text/plain": [
       "<Figure size 432x288 with 1 Axes>"
      ]
     },
     "metadata": {
      "needs_background": "light"
     },
     "output_type": "display_data"
    }
   ],
   "source": [
    "plt.bar(range(len(blessed)), list(blessed.values()), align='center')\n",
    "plt.xticks(range(len(blessed)), list(blessed.keys()))"
   ]
  },
  {
   "cell_type": "code",
   "execution_count": null,
   "metadata": {},
   "outputs": [],
   "source": []
  },
  {
   "cell_type": "code",
   "execution_count": null,
   "metadata": {},
   "outputs": [],
   "source": []
  }
 ],
 "metadata": {
  "kernelspec": {
   "display_name": "Python 3",
   "language": "python",
   "name": "python3"
  },
  "language_info": {
   "codemirror_mode": {
    "name": "ipython",
    "version": 3
   },
   "file_extension": ".py",
   "mimetype": "text/x-python",
   "name": "python",
   "nbconvert_exporter": "python",
   "pygments_lexer": "ipython3",
   "version": "3.6.8"
  }
 },
 "nbformat": 4,
 "nbformat_minor": 2
}
